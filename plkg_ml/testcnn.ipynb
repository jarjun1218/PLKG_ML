{
 "cells": [
  {
   "cell_type": "markdown",
   "metadata": {},
   "source": [
    "cnn 是三維的\n",
    "要看srgan，怎麼規劃input"
   ]
  },
  {
   "cell_type": "code",
   "execution_count": 39,
   "metadata": {},
   "outputs": [],
   "source": [
    "#training core\n",
    "from torch import nn\n",
    "import torch.optim as optim\n",
    "from torch.autograd import Variable\n",
    "from tqdm import tqdm\n",
    "import torch\n",
    "import numpy as np\n",
    "from torch.utils.data import Dataset,DataLoader\n"
   ]
  },
  {
   "cell_type": "code",
   "execution_count": 40,
   "metadata": {},
   "outputs": [],
   "source": [
    "class cnn_fnn_rssi(nn.Module):\n",
    "    def __init__(self):\n",
    "        super(cnn_fnn_rssi,self).__init__()\n",
    "        self.fnn = nn.Sequential(\n",
    "            nn.Conv2d(1,1,(2,1),stride=1,padding=0),\n",
    "            #nn.LayerNorm(51),\n",
    "            nn.BatchNorm2d(),\n",
    "            nn.ReLU()\n",
    "        )\n",
    "        \n",
    "        self.apply(self._init_weights)\n",
    "    \n",
    "    #weight initialize\n",
    "    def _init_weights(self,module):\n",
    "        if isinstance(module, nn.Linear):\n",
    "            nn.init.xavier_uniform_(module.weight)\n",
    "            module.bias.data.zero_()\n",
    "\n",
    "    def forward(self, x):\n",
    "        output = self.fnn(x)\n",
    "        return output\n"
   ]
  },
  {
   "cell_type": "code",
   "execution_count": 41,
   "metadata": {},
   "outputs": [],
   "source": [
    "class csi_rssi_cnn_dataset(Dataset):\n",
    "    def __init__(self, data: np.array):\n",
    "        self.uavdata = torch.from_numpy(data[0]).float()\n",
    "        self.iotdata = torch.from_numpy(data[1,:,1:]).float()\n",
    "        self.length = len(self.uavdata)-1\n",
    "    def __getitem__(self, index):\n",
    "        data, label = self.uavdata[index:index+2].unsqueeze(0), self.iotdata[index]\n",
    "        return data, label\n",
    "    def __len__(self):\n",
    "        return self.length"
   ]
  },
  {
   "cell_type": "code",
   "execution_count": 42,
   "metadata": {},
   "outputs": [
    {
     "ename": "TypeError",
     "evalue": "_BatchNorm.__init__() missing 1 required positional argument: 'num_features'",
     "output_type": "error",
     "traceback": [
      "\u001b[1;31m---------------------------------------------------------------------------\u001b[0m",
      "\u001b[1;31mTypeError\u001b[0m                                 Traceback (most recent call last)",
      "\u001b[1;32md:\\ssh_ml_plkg\\plkg_ml\\testcnn.ipynb Cell 5\u001b[0m line \u001b[0;36m6\n\u001b[0;32m      <a href='vscode-notebook-cell:/d%3A/ssh_ml_plkg/plkg_ml/testcnn.ipynb#W5sZmlsZQ%3D%3D?line=3'>4</a>\u001b[0m checkpoint \u001b[39m=\u001b[39m\u001b[39m100\u001b[39m\n\u001b[0;32m      <a href='vscode-notebook-cell:/d%3A/ssh_ml_plkg/plkg_ml/testcnn.ipynb#W5sZmlsZQ%3D%3D?line=4'>5</a>\u001b[0m epoch \u001b[39m=\u001b[39m \u001b[39m500\u001b[39m\n\u001b[1;32m----> <a href='vscode-notebook-cell:/d%3A/ssh_ml_plkg/plkg_ml/testcnn.ipynb#W5sZmlsZQ%3D%3D?line=5'>6</a>\u001b[0m Model \u001b[39m=\u001b[39m cnn_fnn_rssi()\n\u001b[0;32m      <a href='vscode-notebook-cell:/d%3A/ssh_ml_plkg/plkg_ml/testcnn.ipynb#W5sZmlsZQ%3D%3D?line=6'>7</a>\u001b[0m Model\u001b[39m.\u001b[39mcuda()\n\u001b[0;32m      <a href='vscode-notebook-cell:/d%3A/ssh_ml_plkg/plkg_ml/testcnn.ipynb#W5sZmlsZQ%3D%3D?line=7'>8</a>\u001b[0m Model\u001b[39m.\u001b[39mfloat()\n",
      "\u001b[1;32md:\\ssh_ml_plkg\\plkg_ml\\testcnn.ipynb Cell 5\u001b[0m line \u001b[0;36m7\n\u001b[0;32m      <a href='vscode-notebook-cell:/d%3A/ssh_ml_plkg/plkg_ml/testcnn.ipynb#W5sZmlsZQ%3D%3D?line=1'>2</a>\u001b[0m \u001b[39mdef\u001b[39;00m \u001b[39m__init__\u001b[39m(\u001b[39mself\u001b[39m):\n\u001b[0;32m      <a href='vscode-notebook-cell:/d%3A/ssh_ml_plkg/plkg_ml/testcnn.ipynb#W5sZmlsZQ%3D%3D?line=2'>3</a>\u001b[0m     \u001b[39msuper\u001b[39m(cnn_fnn_rssi,\u001b[39mself\u001b[39m)\u001b[39m.\u001b[39m\u001b[39m__init__\u001b[39m()\n\u001b[0;32m      <a href='vscode-notebook-cell:/d%3A/ssh_ml_plkg/plkg_ml/testcnn.ipynb#W5sZmlsZQ%3D%3D?line=3'>4</a>\u001b[0m     \u001b[39mself\u001b[39m\u001b[39m.\u001b[39mfnn \u001b[39m=\u001b[39m nn\u001b[39m.\u001b[39mSequential(\n\u001b[0;32m      <a href='vscode-notebook-cell:/d%3A/ssh_ml_plkg/plkg_ml/testcnn.ipynb#W5sZmlsZQ%3D%3D?line=4'>5</a>\u001b[0m         nn\u001b[39m.\u001b[39mConv2d(\u001b[39m1\u001b[39m,\u001b[39m1\u001b[39m,(\u001b[39m2\u001b[39m,\u001b[39m1\u001b[39m),stride\u001b[39m=\u001b[39m\u001b[39m1\u001b[39m,padding\u001b[39m=\u001b[39m\u001b[39m0\u001b[39m),\n\u001b[0;32m      <a href='vscode-notebook-cell:/d%3A/ssh_ml_plkg/plkg_ml/testcnn.ipynb#W5sZmlsZQ%3D%3D?line=5'>6</a>\u001b[0m         \u001b[39m#nn.LayerNorm(51),\u001b[39;00m\n\u001b[1;32m----> <a href='vscode-notebook-cell:/d%3A/ssh_ml_plkg/plkg_ml/testcnn.ipynb#W5sZmlsZQ%3D%3D?line=6'>7</a>\u001b[0m         nn\u001b[39m.\u001b[39;49mBatchNorm2d(),\n\u001b[0;32m      <a href='vscode-notebook-cell:/d%3A/ssh_ml_plkg/plkg_ml/testcnn.ipynb#W5sZmlsZQ%3D%3D?line=7'>8</a>\u001b[0m         nn\u001b[39m.\u001b[39mReLU()\n\u001b[0;32m      <a href='vscode-notebook-cell:/d%3A/ssh_ml_plkg/plkg_ml/testcnn.ipynb#W5sZmlsZQ%3D%3D?line=8'>9</a>\u001b[0m     )\n\u001b[0;32m     <a href='vscode-notebook-cell:/d%3A/ssh_ml_plkg/plkg_ml/testcnn.ipynb#W5sZmlsZQ%3D%3D?line=10'>11</a>\u001b[0m     \u001b[39mself\u001b[39m\u001b[39m.\u001b[39mapply(\u001b[39mself\u001b[39m\u001b[39m.\u001b[39m_init_weights)\n",
      "\u001b[1;31mTypeError\u001b[0m: _BatchNorm.__init__() missing 1 required positional argument: 'num_features'"
     ]
    }
   ],
   "source": [
    "trainingset = np.load(\"normalized_training_set.npy\")\n",
    "ds= csi_rssi_cnn_dataset(trainingset)\n",
    "data_loader = DataLoader(dataset = ds,batch_size=1,shuffle= True)\n",
    "checkpoint =100\n",
    "epoch = 500\n",
    "Model = cnn_fnn_rssi()\n",
    "Model.cuda()\n",
    "Model.float()\n",
    "optimizer = optim.Adam(Model.parameters(), lr=1e-3, betas=(0.9, 0.999), eps=1e-8)\n",
    "MSE_loss = nn.MSELoss(reduction=\"mean\")\n",
    "MSE_loss.cuda()\n",
    "Model.train()\n",
    "n_iters = []\n",
    "losses = []\n",
    "count = 0\n",
    "for n_iter in tqdm(range(epoch), desc = \"training\"):\n",
    "    train_loss = 0.0\n",
    "    \n",
    "    for batch_idx, (data, target) in enumerate(data_loader):\n",
    "        data, target = Variable(data), Variable(target)\n",
    "        data, target = data.cuda(), target.cuda()\n",
    "        optimizer.zero_grad()\n",
    "        output = Model(data)\n",
    "        loss = MSE_loss(output, target)\n",
    "        loss.backward()\n",
    "        optimizer.step()\n",
    "\n",
    "        train_loss += loss.item()\n",
    "     \n",
    "    n_iters.append(n_iter)\n",
    "    losses.append(train_loss)\n",
    "    count += 1\n",
    "    if count % checkpoint == 0:\n",
    "        file_name = \"model\"+str(count)+\".pth\"\n",
    "        torch.save(Model,file_name)\n",
    "    torch.save(Model,\"model_final.pth\")\n",
    "\n",
    "np.save(\"losses\",np.array([n_iters,losses]))"
   ]
  }
 ],
 "metadata": {
  "kernelspec": {
   "display_name": "plkg_auto",
   "language": "python",
   "name": "python3"
  },
  "language_info": {
   "codemirror_mode": {
    "name": "ipython",
    "version": 3
   },
   "file_extension": ".py",
   "mimetype": "text/x-python",
   "name": "python",
   "nbconvert_exporter": "python",
   "pygments_lexer": "ipython3",
   "version": "3.11.4"
  }
 },
 "nbformat": 4,
 "nbformat_minor": 2
}
