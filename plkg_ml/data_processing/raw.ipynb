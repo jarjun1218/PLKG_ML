{
 "cells": [
  {
   "cell_type": "code",
   "execution_count": 1,
   "metadata": {},
   "outputs": [],
   "source": [
    "from re import findall"
   ]
  },
  {
   "cell_type": "code",
   "execution_count": 2,
   "metadata": {},
   "outputs": [],
   "source": [
    "class csi_txt_check:\n",
    "    def __init__(self,filename):\n",
    "        self.file = open(filename,'r')\n",
    "        self.all = self.file.read()\n",
    "        self.file.close()\n",
    "        self.info()\n",
    "    def info(self):\n",
    "        self.txt = findall(\"serial_num:.*\\n\",self.all)\n",
    "        total_len = len(self.txt)\n",
    "        element_len = []\n",
    "        for i in self.txt:\n",
    "            element = len(i.split(\",\"))\n",
    "            if element not in element_len:\n",
    "                element_len.append(element)\n",
    "                if element != 135:\n",
    "                    print(i)\n",
    "        print(total_len,element_len)\n",
    "        #print(self.find_wired())\n",
    "        self.find_too_long(135)\n",
    "    def find_wired(self):\n",
    "        s_l = []\n",
    "        for i in range(256):\n",
    "            track = \"serial_num:,\" +str(i)\n",
    "            s_l.append(len(findall(track,self.all)))\n",
    "        return s_l\n",
    "    def find_too_long(self,stander:int):\n",
    "        index = 1\n",
    "        for i in self.txt:\n",
    "            element = len(i.split(\",\"))\n",
    "            if element != stander:\n",
    "                print(index)\n",
    "            index += 1"
   ]
  },
  {
   "cell_type": "code",
   "execution_count": 3,
   "metadata": {},
   "outputs": [],
   "source": [
    "def compare(L1,L2):\n",
    "    count = 0\n",
    "    wired_index = []\n",
    "    for i,j in zip(L1,L2):\n",
    "        if i != j:\n",
    "            wired_index.append(count)\n",
    "        count +=1\n",
    "    return wired_index"
   ]
  },
  {
   "cell_type": "code",
   "execution_count": 15,
   "metadata": {},
   "outputs": [
    {
     "name": "stdout",
     "output_type": "stream",
     "text": [
      "27 [135]\n",
      "0 []\n",
      "[0, 1, 2, 3, 4, 5, 6, 7, 8, 9, 10, 11, 16, 82, 83, 84, 85, 86, 87, 88, 89, 90, 91, 92, 165]\n"
     ]
    }
   ],
   "source": [
    "iotcsi = csi_txt_check(r\"CSI_data/0730/GCS/csi_data10.txt\")\n",
    "uavcsi = csi_txt_check(r\"CSI_data/0730/UAV/csi_data10.txt\")\n",
    "print(compare(iotcsi.find_wired(),uavcsi.find_wired()))"
   ]
  }
 ],
 "metadata": {
  "kernelspec": {
   "display_name": "pytorch",
   "language": "python",
   "name": "python3"
  },
  "language_info": {
   "codemirror_mode": {
    "name": "ipython",
    "version": 3
   },
   "file_extension": ".py",
   "mimetype": "text/x-python",
   "name": "python",
   "nbconvert_exporter": "python",
   "pygments_lexer": "ipython3",
   "version": "3.8.19"
  }
 },
 "nbformat": 4,
 "nbformat_minor": 2
}
